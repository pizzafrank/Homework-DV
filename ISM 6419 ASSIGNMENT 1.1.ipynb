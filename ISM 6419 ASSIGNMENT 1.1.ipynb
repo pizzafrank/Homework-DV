#!/usr/bin/env python
# coding: utf-8

# In[16]:


import pandas as pd
Location = "Desktop/datasets/smallgradesh.csv"
df = pd.read_csv(Location, header=None)


# In[17]:


df.head()


# In[18]:


import pandas as pd
Location = "Desktop/datasets/gradedata.csv"
df1 = pd.read_csv(Location)


# In[19]:


df1.head()


# In[20]:


import pandas as pd
Location = "Desktop/datasets/smallgrades.csv"
# To add headers as we load the data...
df2 = pd.read_csv(Location, names=['Names','Grades'])
# To add headers to a dataframe
df2.columns = ['Names','Grades']


# In[21]:


df2.head()


# In[22]:


import pandas as pd
pd.read_csv("Desktop/Turn1.csv")


# In[ ]:





# In[ ]:




