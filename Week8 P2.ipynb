{
 "cells": [
  {
   "cell_type": "code",
   "execution_count": 1,
   "metadata": {},
   "outputs": [],
   "source": [
    "import numpy as np\n",
    "import pandas as pd\n",
    "import seaborn as sns\n",
    "import folium\n",
    "import webbrowser\n",
    "from folium.plugins import HeatMap"
   ]
  },
  {
   "cell_type": "code",
   "execution_count": 25,
   "metadata": {},
   "outputs": [],
   "source": [
    "COVID = pd.read_csv (\"03-19-2020.csv\")"
   ]
  },
  {
   "cell_type": "code",
   "execution_count": 26,
   "metadata": {},
   "outputs": [
    {
     "data": {
      "text/html": [
       "<div>\n",
       "<style scoped>\n",
       "    .dataframe tbody tr th:only-of-type {\n",
       "        vertical-align: middle;\n",
       "    }\n",
       "\n",
       "    .dataframe tbody tr th {\n",
       "        vertical-align: top;\n",
       "    }\n",
       "\n",
       "    .dataframe thead th {\n",
       "        text-align: right;\n",
       "    }\n",
       "</style>\n",
       "<table border=\"1\" class=\"dataframe\">\n",
       "  <thead>\n",
       "    <tr style=\"text-align: right;\">\n",
       "      <th></th>\n",
       "      <th>Province/State</th>\n",
       "      <th>Country/Region</th>\n",
       "      <th>Last Update</th>\n",
       "      <th>Confirmed</th>\n",
       "      <th>Deaths</th>\n",
       "      <th>Recovered</th>\n",
       "      <th>Latitude</th>\n",
       "      <th>Longitude</th>\n",
       "    </tr>\n",
       "  </thead>\n",
       "  <tbody>\n",
       "    <tr>\n",
       "      <td>0</td>\n",
       "      <td>Hubei</td>\n",
       "      <td>China</td>\n",
       "      <td>2020-03-19T10:13:14</td>\n",
       "      <td>67800</td>\n",
       "      <td>3130</td>\n",
       "      <td>57682</td>\n",
       "      <td>30.9756</td>\n",
       "      <td>112.2707</td>\n",
       "    </tr>\n",
       "    <tr>\n",
       "      <td>1</td>\n",
       "      <td>NaN</td>\n",
       "      <td>Italy</td>\n",
       "      <td>2020-03-19T17:43:03</td>\n",
       "      <td>41035</td>\n",
       "      <td>3405</td>\n",
       "      <td>4440</td>\n",
       "      <td>41.8719</td>\n",
       "      <td>12.5674</td>\n",
       "    </tr>\n",
       "    <tr>\n",
       "      <td>2</td>\n",
       "      <td>NaN</td>\n",
       "      <td>Iran</td>\n",
       "      <td>2020-03-19T11:33:29</td>\n",
       "      <td>18407</td>\n",
       "      <td>1284</td>\n",
       "      <td>5710</td>\n",
       "      <td>32.4279</td>\n",
       "      <td>53.6880</td>\n",
       "    </tr>\n",
       "    <tr>\n",
       "      <td>3</td>\n",
       "      <td>NaN</td>\n",
       "      <td>Spain</td>\n",
       "      <td>2020-03-19T20:13:08</td>\n",
       "      <td>17963</td>\n",
       "      <td>830</td>\n",
       "      <td>1107</td>\n",
       "      <td>40.4637</td>\n",
       "      <td>-3.7492</td>\n",
       "    </tr>\n",
       "    <tr>\n",
       "      <td>4</td>\n",
       "      <td>NaN</td>\n",
       "      <td>Germany</td>\n",
       "      <td>2020-03-19T20:13:08</td>\n",
       "      <td>15320</td>\n",
       "      <td>44</td>\n",
       "      <td>113</td>\n",
       "      <td>51.1657</td>\n",
       "      <td>10.4515</td>\n",
       "    </tr>\n",
       "    <tr>\n",
       "      <td>...</td>\n",
       "      <td>...</td>\n",
       "      <td>...</td>\n",
       "      <td>...</td>\n",
       "      <td>...</td>\n",
       "      <td>...</td>\n",
       "      <td>...</td>\n",
       "      <td>...</td>\n",
       "      <td>...</td>\n",
       "    </tr>\n",
       "    <tr>\n",
       "      <td>287</td>\n",
       "      <td>NaN</td>\n",
       "      <td>Jersey</td>\n",
       "      <td>2020-03-17T18:33:03</td>\n",
       "      <td>0</td>\n",
       "      <td>0</td>\n",
       "      <td>0</td>\n",
       "      <td>49.1900</td>\n",
       "      <td>-2.1100</td>\n",
       "    </tr>\n",
       "    <tr>\n",
       "      <td>288</td>\n",
       "      <td>NaN</td>\n",
       "      <td>Puerto Rico</td>\n",
       "      <td>2020-03-17T16:13:14</td>\n",
       "      <td>0</td>\n",
       "      <td>0</td>\n",
       "      <td>0</td>\n",
       "      <td>18.2000</td>\n",
       "      <td>-66.5000</td>\n",
       "    </tr>\n",
       "    <tr>\n",
       "      <td>289</td>\n",
       "      <td>NaN</td>\n",
       "      <td>Republic of the Congo</td>\n",
       "      <td>2020-03-17T21:33:03</td>\n",
       "      <td>0</td>\n",
       "      <td>0</td>\n",
       "      <td>0</td>\n",
       "      <td>-1.4400</td>\n",
       "      <td>15.5560</td>\n",
       "    </tr>\n",
       "    <tr>\n",
       "      <td>290</td>\n",
       "      <td>NaN</td>\n",
       "      <td>The Bahamas</td>\n",
       "      <td>2020-03-19T12:13:38</td>\n",
       "      <td>0</td>\n",
       "      <td>0</td>\n",
       "      <td>0</td>\n",
       "      <td>24.2500</td>\n",
       "      <td>-76.0000</td>\n",
       "    </tr>\n",
       "    <tr>\n",
       "      <td>291</td>\n",
       "      <td>NaN</td>\n",
       "      <td>The Gambia</td>\n",
       "      <td>2020-03-18T14:13:56</td>\n",
       "      <td>0</td>\n",
       "      <td>0</td>\n",
       "      <td>0</td>\n",
       "      <td>13.4667</td>\n",
       "      <td>-16.6000</td>\n",
       "    </tr>\n",
       "  </tbody>\n",
       "</table>\n",
       "<p>292 rows × 8 columns</p>\n",
       "</div>"
      ],
      "text/plain": [
       "    Province/State         Country/Region          Last Update  Confirmed  \\\n",
       "0            Hubei                  China  2020-03-19T10:13:14      67800   \n",
       "1              NaN                  Italy  2020-03-19T17:43:03      41035   \n",
       "2              NaN                   Iran  2020-03-19T11:33:29      18407   \n",
       "3              NaN                  Spain  2020-03-19T20:13:08      17963   \n",
       "4              NaN                Germany  2020-03-19T20:13:08      15320   \n",
       "..             ...                    ...                  ...        ...   \n",
       "287            NaN                 Jersey  2020-03-17T18:33:03          0   \n",
       "288            NaN            Puerto Rico  2020-03-17T16:13:14          0   \n",
       "289            NaN  Republic of the Congo  2020-03-17T21:33:03          0   \n",
       "290            NaN            The Bahamas  2020-03-19T12:13:38          0   \n",
       "291            NaN             The Gambia  2020-03-18T14:13:56          0   \n",
       "\n",
       "     Deaths  Recovered  Latitude  Longitude  \n",
       "0      3130      57682   30.9756   112.2707  \n",
       "1      3405       4440   41.8719    12.5674  \n",
       "2      1284       5710   32.4279    53.6880  \n",
       "3       830       1107   40.4637    -3.7492  \n",
       "4        44        113   51.1657    10.4515  \n",
       "..      ...        ...       ...        ...  \n",
       "287       0          0   49.1900    -2.1100  \n",
       "288       0          0   18.2000   -66.5000  \n",
       "289       0          0   -1.4400    15.5560  \n",
       "290       0          0   24.2500   -76.0000  \n",
       "291       0          0   13.4667   -16.6000  \n",
       "\n",
       "[292 rows x 8 columns]"
      ]
     },
     "execution_count": 26,
     "metadata": {},
     "output_type": "execute_result"
    }
   ],
   "source": [
    "COVID"
   ]
  },
  {
   "cell_type": "code",
   "execution_count": 29,
   "metadata": {},
   "outputs": [],
   "source": [
    "num = 250\n",
    "lat = np.array(COVID[\"Latitude\"][0:num])                       \n",
    "lon = np.array(COVID[\"Longitude\"][0:num])  \n",
    "pop = np.array(COVID[\"Confirmed\"][0:num],dtype=float)"
   ]
  },
  {
   "cell_type": "code",
   "execution_count": 30,
   "metadata": {},
   "outputs": [],
   "source": [
    "data1 = [[lat[i],lon[i],pop[i]] for i in range(num)]"
   ]
  },
  {
   "cell_type": "code",
   "execution_count": 42,
   "metadata": {},
   "outputs": [],
   "source": [
    "map_COVID = folium.Map(zoom_start=5000) "
   ]
  },
  {
   "cell_type": "code",
   "execution_count": 43,
   "metadata": {},
   "outputs": [
    {
     "data": {
      "text/plain": [
       "<folium.plugins.heat_map.HeatMap at 0x1a1bd7c510>"
      ]
     },
     "execution_count": 43,
     "metadata": {},
     "output_type": "execute_result"
    }
   ],
   "source": [
    "HeatMap(data1).add_to(map_COVID)"
   ]
  },
  {
   "cell_type": "code",
   "execution_count": 44,
   "metadata": {},
   "outputs": [
    {
     "data": {
      "text/html": [
       "<div style=\"width:100%;\"><div style=\"position:relative;width:100%;height:0;padding-bottom:60%;\"><iframe src=\"about:blank\" style=\"position:absolute;width:100%;height:100%;left:0;top:0;border:none !important;\" data-html=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 onload=\"this.contentDocument.open();this.contentDocument.write(atob(this.getAttribute('data-html')));this.contentDocument.close();\" allowfullscreen webkitallowfullscreen mozallowfullscreen></iframe></div></div>"
      ],
      "text/plain": [
       "<folium.folium.Map at 0x1a1ba53c90>"
      ]
     },
     "execution_count": 44,
     "metadata": {},
     "output_type": "execute_result"
    }
   ],
   "source": [
    "map_COVID"
   ]
  },
  {
   "cell_type": "code",
   "execution_count": null,
   "metadata": {},
   "outputs": [],
   "source": []
  }
 ],
 "metadata": {
  "kernelspec": {
   "display_name": "Python 3",
   "language": "python",
   "name": "python3"
  },
  "language_info": {
   "codemirror_mode": {
    "name": "ipython",
    "version": 3
   },
   "file_extension": ".py",
   "mimetype": "text/x-python",
   "name": "python",
   "nbconvert_exporter": "python",
   "pygments_lexer": "ipython3",
   "version": "3.7.4"
  }
 },
 "nbformat": 4,
 "nbformat_minor": 2
}
